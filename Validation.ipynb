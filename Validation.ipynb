{
  "cells": [
    {
      "cell_type": "code",
      "execution_count": null,
      "metadata": {
        "colab": {
          "background_save": true
        },
        "id": "GG0vIKW3LhOb"
      },
      "outputs": [],
      "source": [
        "from google.colab import files\n",
        "files.upload()"
      ]
    },
    {
      "cell_type": "code",
      "execution_count": null,
      "metadata": {
        "id": "1CAPFMVOLbnJ"
      },
      "outputs": [],
      "source": [
        "from keras.models import load_model\n",
        "from sklearn.preprocessing import StandardScaler\n",
        "import pandas as pd\n",
        "import numpy as np"
      ]
    },
    {
      "cell_type": "code",
      "execution_count": null,
      "metadata": {
        "id": "haDDY2l_Ln-x"
      },
      "outputs": [],
      "source": [
        "ridingModel = load_model('/content/Riding.h5')\n",
        "crackingModel = load_model('/content/Cracking.h5')\n",
        "ruttingModel = load_model('/content/Rutting.h5')"
      ]
    },
    {
      "cell_type": "code",
      "execution_count": null,
      "metadata": {
        "id": "byhTPFgJMJK4"
      },
      "outputs": [],
      "source": [
        "ridingdf = pd.read_excel('2.xlsx',sheet_name=0)\n",
        "crackingdf = pd.read_excel('2.xlsx',sheet_name=1)\n",
        "ruttingdf = pd.read_excel('2.xlsx',sheet_name=2)"
      ]
    },
    {
      "cell_type": "code",
      "execution_count": null,
      "metadata": {
        "id": "HfjB9vZFMQXT"
      },
      "outputs": [],
      "source": [
        "xriding = ridingdf.iloc[:,0:8].values\n",
        "yriding = np.reshape(ridingdf.iloc[:,8].values, newshape=(-1, 1))\n",
        "xcracking = crackingdf.iloc[:,0:8].values\n",
        "ycracking = np.reshape(crackingdf.iloc[:,8].values, newshape=(-1, 1))\n",
        "xrutting = ruttingdf.iloc[:,0:8].values\n",
        "yrutting = np.reshape(ruttingdf.iloc[:,8].values, newshape=(-1, 1))"
      ]
    },
    {
      "cell_type": "code",
      "execution_count": null,
      "metadata": {
        "id": "AX-hJ3-7MwIM"
      },
      "outputs": [],
      "source": [
        "# scalers\n",
        "scaler_x_riding = StandardScaler()\n",
        "scaler_y_riding = StandardScaler()\n",
        "scaler_x_cracking = StandardScaler()\n",
        "scaler_y_cracking = StandardScaler()\n",
        "scaler_x_rutting = StandardScaler()\n",
        "scaler_y_rutting = StandardScaler()\n",
        "# scaling riding\n",
        "x_train_riding_sc = scaler_x_riding.fit_transform(xriding)\n",
        "y_train_riding_sc = scaler_y_riding.fit_transform(yriding)\n",
        "# scaling cracking\n",
        "x_train_cracking_sc = scaler_x_cracking.fit_transform(xcracking)\n",
        "y_train_cracking_sc = scaler_y_cracking.fit_transform(ycracking)\n",
        "# scaling rutting\n",
        "x_train_rutting_sc = scaler_x_rutting.fit_transform(xrutting)\n",
        "y_train_rutting_sc = scaler_y_rutting.fit_transform(yrutting)"
      ]
    },
    {
      "cell_type": "code",
      "execution_count": null,
      "metadata": {
        "id": "afENiw5zNW9-"
      },
      "outputs": [],
      "source": [
        "# prediction Riding\n",
        "train_riding_predict = [scaler_y_riding.inverse_transform(ridingModel.predict(x_train_riding_sc))[i][0] for i in range(x_train_riding_sc.shape[0])]\n",
        "train_riding_act = [scaler_y_riding.inverse_transform(y_train_riding_sc)[i][0] for i in range(y_train_riding_sc.shape[0])]\n",
        "meantrainriding =[abs(train_riding_act[i]-train_riding_predict[i])/train_riding_act[i] for i in range(len(train_riding_act))]\n",
        "# prediction cracking\n",
        "train_cracking_predict = [scaler_y_cracking.inverse_transform(crackingModel.predict(x_train_cracking_sc))[i][0] for i in range(x_train_cracking_sc.shape[0])]\n",
        "train_cracking_act = [scaler_y_cracking.inverse_transform(y_train_cracking_sc)[i][0] for i in range(y_train_cracking_sc.shape[0])]\n",
        "meantraincracking =[abs(train_cracking_act[i]-train_cracking_predict[i])/train_cracking_act[i] for i in range(len(train_cracking_act))]\n",
        "# prediction rutting\n",
        "train_rutting_predict = [scaler_y_rutting.inverse_transform(ruttingModel.predict(x_train_rutting_sc))[i][0] for i in range(x_train_rutting_sc.shape[0])]\n",
        "train_rutting_act = [scaler_y_rutting.inverse_transform(y_train_rutting_sc)[i][0] for i in range(y_train_rutting_sc.shape[0])]\n",
        "meantrainrutting =[abs(train_rutting_act[i]-train_rutting_predict[i])/train_rutting_act[i] for i in range(len(train_rutting_act))]\n"
      ]
    },
    {
      "cell_type": "code",
      "execution_count": null,
      "metadata": {
        "id": "DAvtLQ1EE2Jn"
      },
      "outputs": [],
      "source": [
        "Train_PCI_predict= [(0.4*train_riding_predict[i])+(0.4*train_cracking_predict[i])+(0.2*train_rutting_predict[i]) for i in range(len(train_riding_predict))] \n",
        "Train_PCI_act = [(0.4*train_riding_act[i])+(0.4*train_cracking_act[i])+(0.2*train_rutting_act[i]) for i in range(len(train_riding_predict))]\n",
        "meantrainPCI= [abs(Train_PCI_act[i]-Train_PCI_predict[i])/Train_PCI_act[i] for i in range(len(Train_PCI_predict))]"
      ]
    },
    {
      "cell_type": "code",
      "execution_count": null,
      "metadata": {
        "colab": {
          "base_uri": "https://localhost:8080/"
        },
        "id": "I8r0A-5gNP7E",
        "outputId": "0760dec8-b852-4d42-c6b4-ad00f3a0e16b"
      },
      "outputs": [
        {
          "name": "stdout",
          "output_type": "stream",
          "text": [
            "mean absolute error for train Riding is 10.7%\n",
            "mean absolute error for train cracking is 1.5%\n",
            "mean absolute error for train rutting is 32.3%\n",
            "mean absolute error for Train PCI is 5.2%\n"
          ]
        }
      ],
      "source": [
        "print(f\"mean absolute error for train Riding is {round(np.mean(meantrainriding)*100,ndigits=1)}%\")\n",
        "print(f\"mean absolute error for train cracking is {round(np.mean(meantraincracking)*100,ndigits=1)}%\")\n",
        "print(f\"mean absolute error for train rutting is {round(np.mean(meantrainrutting)*100,ndigits=1)}%\")\n",
        "print(f\"mean absolute error for Train PCI is {round(np.mean(meantrainPCI)*100,ndigits=1)}%\")"
      ]
    },
    {
      "cell_type": "code",
      "execution_count": null,
      "metadata": {
        "id": "ULYnffo7qMdS"
      },
      "outputs": [],
      "source": [
        "Training = {'ActualTrainingRiding':train_riding_act,\n",
        "            'PredictedTrainingRiding':train_riding_predict,\n",
        "            'MAETrainingRiding':meantrainriding,\n",
        "            'ActualTrainingCracking':train_cracking_act,\n",
        "            'PredictedTrainingCracking':train_cracking_predict,\n",
        "            'MAETrainingCracking':meantraincracking,\n",
        "            'ActualTrainingRutting':train_rutting_act,\n",
        "            'PredictedTrainingRutting':train_rutting_predict,\n",
        "            'MAETrainingRutting':meantrainrutting,\n",
        "            'ActualTriningPCI':Train_PCI_act,\n",
        "            'PredictedTrainingPCI':Train_PCI_predict,\n",
        "            'MAETrainingPCI':meantrainPCI}"
      ]
    },
    {
      "cell_type": "code",
      "execution_count": null,
      "metadata": {
        "id": "SaMyTzy2tEXJ"
      },
      "outputs": [],
      "source": [
        "train = pd.DataFrame(Training)"
      ]
    },
    {
      "cell_type": "code",
      "execution_count": null,
      "metadata": {
        "id": "z2hGem6buiQq"
      },
      "outputs": [],
      "source": [
        "with pd.ExcelWriter('IowaPredtictionModel.xlsx') as writer:\n",
        "    train.to_excel(writer,sheet_name='Train',index=False)"
      ]
    }
  ],
  "metadata": {
    "accelerator": "GPU",
    "colab": {
      "collapsed_sections": [],
      "name": "Validation",
      "provenance": []
    },
    "kernelspec": {
      "display_name": "Python 3",
      "name": "python3"
    },
    "language_info": {
      "name": "python"
    }
  },
  "nbformat": 4,
  "nbformat_minor": 0
}