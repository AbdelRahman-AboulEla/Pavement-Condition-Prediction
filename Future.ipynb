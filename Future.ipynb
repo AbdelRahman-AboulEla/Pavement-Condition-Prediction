{
  "nbformat": 4,
  "nbformat_minor": 0,
  "metadata": {
    "colab": {
      "name": "Future",
      "provenance": [],
      "collapsed_sections": []
    },
    "kernelspec": {
      "name": "python3",
      "display_name": "Python 3"
    },
    "language_info": {
      "name": "python"
    },
    "accelerator": "GPU"
  },
  "cells": [
    {
      "cell_type": "code",
      "metadata": {
        "id": "GG0vIKW3LhOb"
      },
      "source": [
        "from google.colab import files\n",
        "files.upload()"
      ],
      "execution_count": null,
      "outputs": []
    },
    {
      "cell_type": "code",
      "metadata": {
        "id": "1CAPFMVOLbnJ"
      },
      "source": [
        "from keras.models import load_model\n",
        "from sklearn.preprocessing import StandardScaler\n",
        "import pandas as pd\n",
        "import numpy as np"
      ],
      "execution_count": null,
      "outputs": []
    },
    {
      "cell_type": "code",
      "metadata": {
        "id": "haDDY2l_Ln-x"
      },
      "source": [
        "ridingModel = load_model('/content/Riding.h5')\n",
        "crackingModel = load_model('/content/Cracking.h5')\n",
        "ruttingModel = load_model('/content/Rutting.h5')"
      ],
      "execution_count": null,
      "outputs": []
    },
    {
      "cell_type": "code",
      "metadata": {
        "id": "byhTPFgJMJK4"
      },
      "source": [
        "fd = pd.read_excel('3.xlsx',sheet_name=0)"
      ],
      "execution_count": null,
      "outputs": []
    },
    {
      "cell_type": "code",
      "metadata": {
        "id": "HfjB9vZFMQXT"
      },
      "source": [
        "xfd = fd.iloc[:,0:8].values\n",
        "yfd = np.reshape(fd.iloc[:,8].values, newshape=(-1, 1))"
      ],
      "execution_count": null,
      "outputs": []
    },
    {
      "cell_type": "code",
      "metadata": {
        "id": "AX-hJ3-7MwIM"
      },
      "source": [
        "# scalers\n",
        "scaler_x = StandardScaler()\n",
        "scaler_y = StandardScaler()\n",
        "# scaling riding\n",
        "x_sc = scaler_x.fit_transform(xfd)\n",
        "y_sc = scaler_y.fit_transform(yfd)"
      ],
      "execution_count": null,
      "outputs": []
    },
    {
      "cell_type": "code",
      "metadata": {
        "id": "afENiw5zNW9-"
      },
      "source": [
        "# prediction Riding\n",
        "riding = [scaler_y.inverse_transform(ridingModel.predict(x_sc))[i][0] for i in range(x_sc.shape[0])]\n",
        "# prediction cracking\n",
        "cracking = [scaler_y.inverse_transform(crackingModel.predict(x_sc))[i][0] for i in range(x_sc.shape[0])]\n",
        "# prediction rutting\n",
        "rutting = [scaler_y.inverse_transform(ruttingModel.predict(x_sc))[i][0] for i in range(x_sc.shape[0])]"
      ],
      "execution_count": null,
      "outputs": []
    },
    {
      "cell_type": "code",
      "metadata": {
        "id": "DAvtLQ1EE2Jn"
      },
      "source": [
        "PCI = [(0.4*riding[i])+(0.4*cracking[i])+(0.2*rutting[i]) for i in range(len(riding))] "
      ],
      "execution_count": null,
      "outputs": []
    },
    {
      "cell_type": "code",
      "metadata": {
        "colab": {
          "base_uri": "https://localhost:8080/",
          "height": 489
        },
        "id": "YfY1QKyS9gl7",
        "outputId": "d5aff93c-c399-4d01-c1ed-81481a4858f1"
      },
      "source": [
        "fd['RidingIndex'] = riding\n",
        "fd['CrackingIndex'] = cracking\n",
        "fd['RuttingIndex'] = rutting\n",
        "fd['PCI'] = PCI\n",
        "fd"
      ],
      "execution_count": null,
      "outputs": [
        {
          "output_type": "execute_result",
          "data": {
            "text/html": [
              "<div>\n",
              "<style scoped>\n",
              "    .dataframe tbody tr th:only-of-type {\n",
              "        vertical-align: middle;\n",
              "    }\n",
              "\n",
              "    .dataframe tbody tr th {\n",
              "        vertical-align: top;\n",
              "    }\n",
              "\n",
              "    .dataframe thead th {\n",
              "        text-align: right;\n",
              "    }\n",
              "</style>\n",
              "<table border=\"1\" class=\"dataframe\">\n",
              "  <thead>\n",
              "    <tr style=\"text-align: right;\">\n",
              "      <th></th>\n",
              "      <th>Age</th>\n",
              "      <th>Rainfall (in.)</th>\n",
              "      <th>Temp (C)</th>\n",
              "      <th>Annual Average Freeze Index\\n(deg C deg days)</th>\n",
              "      <th>Annual Average Average Humidity (%)</th>\n",
              "      <th>Annual Average Daily Truck Traffic\\n(AADTT)</th>\n",
              "      <th>SN (IN)</th>\n",
              "      <th>Thicknes (in)</th>\n",
              "      <th>Output</th>\n",
              "      <th>RidingIndex</th>\n",
              "      <th>CrackingIndex</th>\n",
              "      <th>RuttingIndex</th>\n",
              "      <th>PCI</th>\n",
              "    </tr>\n",
              "  </thead>\n",
              "  <tbody>\n",
              "    <tr>\n",
              "      <th>0</th>\n",
              "      <td>7</td>\n",
              "      <td>26.4</td>\n",
              "      <td>6.9</td>\n",
              "      <td>562</td>\n",
              "      <td>63</td>\n",
              "      <td>320</td>\n",
              "      <td>3.728</td>\n",
              "      <td>14.2</td>\n",
              "      <td>86.027783</td>\n",
              "      <td>87.422173</td>\n",
              "      <td>97.257622</td>\n",
              "      <td>94.169044</td>\n",
              "      <td>92.705727</td>\n",
              "    </tr>\n",
              "    <tr>\n",
              "      <th>1</th>\n",
              "      <td>8</td>\n",
              "      <td>24.5</td>\n",
              "      <td>6.3</td>\n",
              "      <td>604</td>\n",
              "      <td>60</td>\n",
              "      <td>336</td>\n",
              "      <td>3.728</td>\n",
              "      <td>14.2</td>\n",
              "      <td>78.046154</td>\n",
              "      <td>90.033051</td>\n",
              "      <td>90.964577</td>\n",
              "      <td>91.442223</td>\n",
              "      <td>90.687495</td>\n",
              "    </tr>\n",
              "    <tr>\n",
              "      <th>2</th>\n",
              "      <td>9</td>\n",
              "      <td>24.2</td>\n",
              "      <td>6.0</td>\n",
              "      <td>668</td>\n",
              "      <td>62</td>\n",
              "      <td>344</td>\n",
              "      <td>3.728</td>\n",
              "      <td>14.2</td>\n",
              "      <td>72.398281</td>\n",
              "      <td>84.071777</td>\n",
              "      <td>85.755989</td>\n",
              "      <td>87.405487</td>\n",
              "      <td>85.412204</td>\n",
              "    </tr>\n",
              "    <tr>\n",
              "      <th>3</th>\n",
              "      <td>10</td>\n",
              "      <td>32.0</td>\n",
              "      <td>6.1</td>\n",
              "      <td>614</td>\n",
              "      <td>67</td>\n",
              "      <td>378</td>\n",
              "      <td>3.728</td>\n",
              "      <td>14.2</td>\n",
              "      <td>69.112670</td>\n",
              "      <td>69.152122</td>\n",
              "      <td>87.720276</td>\n",
              "      <td>80.069839</td>\n",
              "      <td>78.762927</td>\n",
              "    </tr>\n",
              "    <tr>\n",
              "      <th>4</th>\n",
              "      <td>11</td>\n",
              "      <td>27.0</td>\n",
              "      <td>6.3</td>\n",
              "      <td>580</td>\n",
              "      <td>64</td>\n",
              "      <td>383</td>\n",
              "      <td>3.728</td>\n",
              "      <td>14.2</td>\n",
              "      <td>50.322624</td>\n",
              "      <td>77.148994</td>\n",
              "      <td>81.575165</td>\n",
              "      <td>82.017662</td>\n",
              "      <td>79.893196</td>\n",
              "    </tr>\n",
              "    <tr>\n",
              "      <th>...</th>\n",
              "      <td>...</td>\n",
              "      <td>...</td>\n",
              "      <td>...</td>\n",
              "      <td>...</td>\n",
              "      <td>...</td>\n",
              "      <td>...</td>\n",
              "      <td>...</td>\n",
              "      <td>...</td>\n",
              "      <td>...</td>\n",
              "      <td>...</td>\n",
              "      <td>...</td>\n",
              "      <td>...</td>\n",
              "      <td>...</td>\n",
              "    </tr>\n",
              "    <tr>\n",
              "      <th>103</th>\n",
              "      <td>11</td>\n",
              "      <td>27.0</td>\n",
              "      <td>6.3</td>\n",
              "      <td>580</td>\n",
              "      <td>64</td>\n",
              "      <td>383</td>\n",
              "      <td>9.152</td>\n",
              "      <td>23.0</td>\n",
              "      <td>87.914299</td>\n",
              "      <td>86.171486</td>\n",
              "      <td>89.517876</td>\n",
              "      <td>83.283562</td>\n",
              "      <td>86.932457</td>\n",
              "    </tr>\n",
              "    <tr>\n",
              "      <th>104</th>\n",
              "      <td>12</td>\n",
              "      <td>23.2</td>\n",
              "      <td>7.9</td>\n",
              "      <td>411</td>\n",
              "      <td>60</td>\n",
              "      <td>388</td>\n",
              "      <td>9.152</td>\n",
              "      <td>23.0</td>\n",
              "      <td>88.057557</td>\n",
              "      <td>89.012924</td>\n",
              "      <td>89.098946</td>\n",
              "      <td>78.725914</td>\n",
              "      <td>86.989931</td>\n",
              "    </tr>\n",
              "    <tr>\n",
              "      <th>105</th>\n",
              "      <td>13</td>\n",
              "      <td>25.3</td>\n",
              "      <td>7.1</td>\n",
              "      <td>516</td>\n",
              "      <td>63</td>\n",
              "      <td>394</td>\n",
              "      <td>9.152</td>\n",
              "      <td>23.0</td>\n",
              "      <td>88.166516</td>\n",
              "      <td>85.583580</td>\n",
              "      <td>83.548233</td>\n",
              "      <td>74.665878</td>\n",
              "      <td>82.585901</td>\n",
              "    </tr>\n",
              "    <tr>\n",
              "      <th>106</th>\n",
              "      <td>14</td>\n",
              "      <td>28.2</td>\n",
              "      <td>6.6</td>\n",
              "      <td>662</td>\n",
              "      <td>64</td>\n",
              "      <td>433</td>\n",
              "      <td>9.152</td>\n",
              "      <td>23.0</td>\n",
              "      <td>88.201086</td>\n",
              "      <td>79.290878</td>\n",
              "      <td>71.822960</td>\n",
              "      <td>74.882500</td>\n",
              "      <td>75.422035</td>\n",
              "    </tr>\n",
              "    <tr>\n",
              "      <th>107</th>\n",
              "      <td>15</td>\n",
              "      <td>27.9</td>\n",
              "      <td>7.9</td>\n",
              "      <td>426</td>\n",
              "      <td>62</td>\n",
              "      <td>410</td>\n",
              "      <td>9.152</td>\n",
              "      <td>23.0</td>\n",
              "      <td>93.120724</td>\n",
              "      <td>77.326790</td>\n",
              "      <td>75.046478</td>\n",
              "      <td>75.153526</td>\n",
              "      <td>75.980013</td>\n",
              "    </tr>\n",
              "  </tbody>\n",
              "</table>\n",
              "<p>108 rows × 13 columns</p>\n",
              "</div>"
            ],
            "text/plain": [
              "     Age  Rainfall (in.)  Temp (C)  ...  CrackingIndex  RuttingIndex        PCI\n",
              "0      7            26.4       6.9  ...      97.257622     94.169044  92.705727\n",
              "1      8            24.5       6.3  ...      90.964577     91.442223  90.687495\n",
              "2      9            24.2       6.0  ...      85.755989     87.405487  85.412204\n",
              "3     10            32.0       6.1  ...      87.720276     80.069839  78.762927\n",
              "4     11            27.0       6.3  ...      81.575165     82.017662  79.893196\n",
              "..   ...             ...       ...  ...            ...           ...        ...\n",
              "103   11            27.0       6.3  ...      89.517876     83.283562  86.932457\n",
              "104   12            23.2       7.9  ...      89.098946     78.725914  86.989931\n",
              "105   13            25.3       7.1  ...      83.548233     74.665878  82.585901\n",
              "106   14            28.2       6.6  ...      71.822960     74.882500  75.422035\n",
              "107   15            27.9       7.9  ...      75.046478     75.153526  75.980013\n",
              "\n",
              "[108 rows x 13 columns]"
            ]
          },
          "metadata": {
            "tags": []
          },
          "execution_count": 19
        }
      ]
    },
    {
      "cell_type": "code",
      "metadata": {
        "id": "SaMyTzy2tEXJ"
      },
      "source": [
        "train = pd.DataFrame(fd)"
      ],
      "execution_count": null,
      "outputs": []
    },
    {
      "cell_type": "code",
      "metadata": {
        "id": "z2hGem6buiQq"
      },
      "source": [
        "with pd.ExcelWriter('Futureprediction from 2005 to 2016.xlsx') as writer:\n",
        "    train.to_excel(writer,sheet_name='Future',index=False)"
      ],
      "execution_count": null,
      "outputs": []
    }
  ]
}